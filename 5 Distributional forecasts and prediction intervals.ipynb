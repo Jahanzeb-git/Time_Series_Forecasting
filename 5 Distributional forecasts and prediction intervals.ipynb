{
 "cells": [
  {
   "cell_type": "markdown",
   "metadata": {},
   "source": [
    "## Distributional forecasts and prediction intervals\n",
    "***\n",
    "\n",
    "## Forecast distributions\n",
    "\n",
    "As discussed, we express the uncertainty in our forecasts using a probability distribution. It describes the probability of observing possible future values using the fitted model. The point forecast is the mean of this distribution. Most time series models produce normally distributed forecasts — that is, we assume that the distribution of possible future values follows a normal distribution. We will look at a couple of alternatives to normal distributions later in this section."
   ]
  },
  {
   "cell_type": "markdown",
   "metadata": {},
   "source": [
    "## Prediction intervals\n",
    "A prediction interval gives an interval within which we expect $y_{t}$ to lie with a specified probability. For example, assuming that distribution of future observations is normal, a 95% prediction interval for the $h$-step forecast is\n",
    "\n",
    "$\\hat{y}_{T+h} = ± 1.96 \\hat{σ}_{h}$\n",
    "\n",
    "where $\\hat{σ}_{h}$ is an estimate of the standard deviation of the $h$-step forecast distribution.\n",
    "\n",
    "More generally, a prediction interval can be written as\n",
    "\n",
    "$\\hat{y}_{T+h} = ± c \\hat{σ}_{h}$\n",
    "\n",
    "where the multiplier $c$ depends on the coverage probability. In this book we usually calculate 80% intervals and 95% intervals, although any percentage may be used. Table 5.1 gives the value of $c$ for a range of coverage probabilities assuming a normal forecast distribution.\n",
    "\n",
    "Table 5.1: Multipliers to be used for prediction intervals.\n",
    "\n",
    "| Percentage      | Multiplier |\n",
    "| ----------- | ----------- |\n",
    "| 50      | 0.67       |\n",
    "| 55   | 0.76        |\n",
    "| 60   | 0.84        |\n",
    "| 65   | 0.93        |\n",
    "| 70   | 1.04        |\n",
    "| 75   | 1.15        |\n",
    "| 80   | 1.28        |\n",
    "| 85   | 1.44        |\n",
    "| 90   | 1.64        |\n",
    "| 95   | 1.96        |\n",
    "| 96   | 2.05        |\n",
    "| 97   | 2.17        |\n",
    "| 98   | 2.33        |\n",
    "| 99   | 2.58        |\n",
    "\n",
    "\n",
    "The value of prediction intervals is that they express the uncertainty in the forecasts. If we only produce point forecasts, there is no way of telling how accurate the forecasts are. However, if we also produce prediction intervals, then it is clear how much uncertainty is associated with each forecast. For this reason, point forecasts can be of almost no value without the accompanying prediction intervals.\n",
    "\n",
    "## One-step prediction intervals\n",
    "\n",
    "When forecasting one step ahead, the standard deviation of the forecast distribution can be estimated using the standard deviation of the residuals given by\n",
    "\n",
    "where $K$ is the number of parameters estimated in the forecasting method, and $M$ is the number of missing values in the residuals. (For example, $M=1$ for a naive forecast, because we can’t forecast the first observation.)\n",
    "\n",
    "For example, consider a naïve forecast for the Google stock price data google_2015 (shown in Figure 8). The last value of the observed series is 758.88, so the forecast of the next value of the price is 758.88. The standard deviation of the residuals from the naïve method, as given by Equation (5.1), is 11.19. Hence, a 95% prediction interval for the next value of the GSP is\n",
    "\n",
    "$758.88 ± 1.96(11.19) = [736.9,780.8]$\n",
    "\n",
    "Similarly, an 80% prediction interval is given by\n",
    "\n",
    "$758.88 ± 1.28(11.19) = [744.5,773.2]$\n",
    "\n",
    "The value of the multiplier (1.96 or 1.28) is taken from Table 5.1.\n",
    "\n",
    "## Multi-step prediction intervals\n",
    "\n",
    "A common feature of prediction intervals is that they usually increase in length as the forecast horizon increases. The further ahead we forecast, the more uncertainty is associated with the forecast, and thus the wider the prediction intervals. That is, $\\hat{σ}_{h}$ usually increases with $h$ (although there are some non-linear forecasting methods which do not have this property).\n",
    "\n",
    "To produce a prediction interval, it is necessary to have an estimate of $\\hat{σ}_{h}$. As already noted, for one-step forecasts $(h = 1)$, Equation (5.1) provides a good estimate of the forecast standard deviation  ${σ}_{1}$. For multi-step forecasts, a more complicated method of calculation is required. These calculations assume that the residuals are uncorrelated.\n",
    "\n",
    "## Benchmark methods\n",
    "\n",
    "For the four benchmark methods, it is possible to mathematically derive the forecast standard deviation under the assumption of uncorrelated residuals. If $\\hat{σ}_{h}$ denotes the standard deviation of the $h$-step forecast distribution, and $\\hat{σ}$ is the residual standard deviation given by (5.1), then we can use the expressions shown in Table 5.2. Note that when $h = 1$ and $T$ is large, these all give the same approximate value $\\hat{σ}$.\n",
    "\n",
    "Table 5.2: Multi-step forecast standard deviation for the four benchmark methods, where $σ$ is the residual standard deviation, $m$ is the seasonal period, and $k$ is the integer part of $(h−1)/m$ (i.e., the number of complete years in the forecast period prior to time $T+h$)\n",
    "\n",
    "| Benchmark method      | \t $h$-step forecast standard deviation |\n",
    "| ----------- | ----------- |\n",
    "| Mean      | $\\hat{σ}_{h} = \\hat{σ} \\sqrt{1 + 1 / T}$       |\n",
    "| Naïve   | $\\hat{σ}_{h} = \\hat{σ} \\sqrt{h}$        |\n",
    "| Seasonal naïve   | $\\hat{σ}_{h} = \\hat{σ} \\sqrt{k + 1}$        |\n",
    "| Drift   | $\\hat{σ}_{h} = \\hat{σ} \\sqrt{h(1 + h)/(T - 1)}$        |"
   ]
  },
  {
   "cell_type": "markdown",
   "metadata": {},
   "source": [
    "The `forecast()` function converts the forecast distributions into intervals. By default, 80% and 95% prediction intervals are returned, although other options are possible via the `level` argument.\n",
    "\n",
    "When plotted, the prediction intervals are shown as shaded regions, with the strength of colour indicating the probability associated with the interval. Again, 80% and 95% intervals are shown by default, with other options available via the `level` argument."
   ]
  },
  {
   "cell_type": "code",
   "execution_count": 1,
   "metadata": {},
   "outputs": [
    {
     "name": "stderr",
     "output_type": "stream",
     "text": [
      "c:\\Users\\Facu\\AppData\\Local\\Programs\\Python\\Python310\\lib\\site-packages\\llvmlite\\llvmpy\\__init__.py:3: UserWarning: The module `llvmlite.llvmpy` is deprecated and will be removed in the future.\n",
      "  warnings.warn(\n",
      "c:\\Users\\Facu\\AppData\\Local\\Programs\\Python\\Python310\\lib\\site-packages\\llvmlite\\llvmpy\\core.py:8: UserWarning: The module `llvmlite.llvmpy.core` is deprecated and will be removed in the future. Equivalent functionality is provided by `llvmlite.ir`.\n",
      "  warnings.warn(\n",
      "c:\\Users\\Facu\\AppData\\Local\\Programs\\Python\\Python310\\lib\\site-packages\\llvmlite\\llvmpy\\passes.py:17: UserWarning: The module `llvmlite.llvmpy.passes` is deprecated and will be removed in the future. If you are using this code, it should be inlined into your own project.\n",
      "  warnings.warn(\n"
     ]
    }
   ],
   "source": [
    "#Import the libraries that we are going to use for the analysis:\n",
    "import pandas as pd\n",
    "import numpy as np\n",
    "import random\n",
    "from itertools import product\n",
    "from ipywidgets import interact\n",
    "\n",
    "from statsforecast import StatsForecast\n",
    "from statsforecast.models import __all__\n",
    "\n",
    "import matplotlib.pyplot as plt"
   ]
  },
  {
   "cell_type": "code",
   "execution_count": 88,
   "metadata": {},
   "outputs": [
    {
     "name": "stderr",
     "output_type": "stream",
     "text": [
      "C:\\Users\\Facu\\AppData\\Local\\Temp\\ipykernel_12436\\1705881548.py:10: SettingWithCopyWarning: \n",
      "A value is trying to be set on a copy of a slice from a DataFrame.\n",
      "Try using .loc[row_indexer,col_indexer] = value instead\n",
      "\n",
      "See the caveats in the documentation: https://pandas.pydata.org/pandas-docs/stable/user_guide/indexing.html#returning-a-view-versus-a-copy\n",
      "  google_train[\"unique_id\"] = \"Close price\"\n",
      "C:\\Users\\Facu\\AppData\\Local\\Temp\\ipykernel_12436\\1705881548.py:12: SettingWithCopyWarning: \n",
      "A value is trying to be set on a copy of a slice from a DataFrame.\n",
      "Try using .loc[row_indexer,col_indexer] = value instead\n",
      "\n",
      "See the caveats in the documentation: https://pandas.pydata.org/pandas-docs/stable/user_guide/indexing.html#returning-a-view-versus-a-copy\n",
      "  google_train['ds'] = pd.to_datetime(google_train['ds'])\n"
     ]
    }
   ],
   "source": [
    "# Create a dataframe from a csv file:\n",
    "google_stock = pd.read_csv(\"Assets/GOOGL.csv\")\n",
    "\n",
    "# Filter the year of interest:\n",
    "google_mask = google_stock[\"Date\"] <= \"2015-12-31\"\n",
    "google_2015 = google_stock[google_mask]\n",
    "\n",
    "# Define a new dataframe with daily close prices and dates:\n",
    "google_train = google_2015[[\"Date\", \"Close\"]]\n",
    "\n",
    "# Rename columns:\n",
    "google_train.columns = [\"ds\", \"y\"]\n",
    "\n",
    "# Create a new column in the dataframe, unique_id:\n",
    "google_train[\"unique_id\"] = \"Close price\"\n",
    "\n",
    "# Convert string Date time into Python Date time object:\n",
    "google_train['ds'] = pd.to_datetime(google_train['ds'])"
   ]
  },
  {
   "cell_type": "code",
   "execution_count": 78,
   "metadata": {},
   "outputs": [],
   "source": [
    "# import the model that we are going to use for the analysis:\n",
    "from statsforecast.models import AutoARIMA\n",
    "\n",
    "# Since we are dealing with daily data, it would be benefitial to use 5 as seasonality.\n",
    "models = [AutoARIMA(season_length=5, approximation=True)]"
   ]
  },
  {
   "cell_type": "code",
   "execution_count": 79,
   "metadata": {},
   "outputs": [],
   "source": [
    "# Define the model, fit and predict:\n",
    "fcst = StatsForecast(df=google_train, \n",
    "                     models=models,\n",
    "                     freq=\"D\",\n",
    "                     n_jobs=-1)"
   ]
  },
  {
   "cell_type": "code",
   "execution_count": 80,
   "metadata": {},
   "outputs": [],
   "source": [
    "# We can define the level of the forecast intervals we want to produce. StatsForecast will produce these levels:\n",
    "levels = [80, 95]"
   ]
  },
  {
   "cell_type": "code",
   "execution_count": 81,
   "metadata": {},
   "outputs": [
    {
     "name": "stderr",
     "output_type": "stream",
     "text": [
      "c:\\Users\\Facu\\AppData\\Local\\Programs\\Python\\Python310\\lib\\site-packages\\statsforecast\\arima.py:882: UserWarning: possible convergence problem: minimize gave code 2]\n",
      "  warnings.warn(\n",
      "c:\\Users\\Facu\\AppData\\Local\\Programs\\Python\\Python310\\lib\\site-packages\\statsforecast\\arima.py:882: UserWarning: possible convergence problem: minimize gave code 2]\n",
      "  warnings.warn(\n",
      "c:\\Users\\Facu\\AppData\\Local\\Programs\\Python\\Python310\\lib\\site-packages\\statsforecast\\arima.py:882: UserWarning: possible convergence problem: minimize gave code 2]\n",
      "  warnings.warn(\n",
      "c:\\Users\\Facu\\AppData\\Local\\Programs\\Python\\Python310\\lib\\site-packages\\statsforecast\\arima.py:882: UserWarning: possible convergence problem: minimize gave code 2]\n",
      "  warnings.warn(\n",
      "c:\\Users\\Facu\\AppData\\Local\\Programs\\Python\\Python310\\lib\\site-packages\\statsforecast\\arima.py:882: UserWarning: possible convergence problem: minimize gave code 2]\n",
      "  warnings.warn(\n",
      "c:\\Users\\Facu\\AppData\\Local\\Programs\\Python\\Python310\\lib\\site-packages\\statsforecast\\arima.py:882: UserWarning: possible convergence problem: minimize gave code 2]\n",
      "  warnings.warn(\n",
      "c:\\Users\\Facu\\AppData\\Local\\Programs\\Python\\Python310\\lib\\site-packages\\statsforecast\\arima.py:882: UserWarning: possible convergence problem: minimize gave code 2]\n",
      "  warnings.warn(\n",
      "c:\\Users\\Facu\\AppData\\Local\\Programs\\Python\\Python310\\lib\\site-packages\\statsforecast\\arima.py:882: UserWarning: possible convergence problem: minimize gave code 2]\n",
      "  warnings.warn(\n",
      "c:\\Users\\Facu\\AppData\\Local\\Programs\\Python\\Python310\\lib\\site-packages\\statsforecast\\arima.py:882: UserWarning: possible convergence problem: minimize gave code 2]\n",
      "  warnings.warn(\n",
      "c:\\Users\\Facu\\AppData\\Local\\Programs\\Python\\Python310\\lib\\site-packages\\statsforecast\\arima.py:882: UserWarning: possible convergence problem: minimize gave code 2]\n",
      "  warnings.warn(\n",
      "c:\\Users\\Facu\\AppData\\Local\\Programs\\Python\\Python310\\lib\\site-packages\\statsforecast\\arima.py:882: UserWarning: possible convergence problem: minimize gave code 2]\n",
      "  warnings.warn(\n"
     ]
    }
   ],
   "source": [
    "# The forecast function converts the forecast distributions into intervals:\n",
    "forecasts = fcst.forecast(h=10, level=levels)"
   ]
  },
  {
   "cell_type": "code",
   "execution_count": 82,
   "metadata": {},
   "outputs": [],
   "source": [
    "# Reset the index of the DataFrame, and use the default one instead:\n",
    "forecasts = forecasts.reset_index()"
   ]
  },
  {
   "cell_type": "code",
   "execution_count": 87,
   "metadata": {},
   "outputs": [
    {
     "data": {
      "image/png": "[encoded data removed]",
      "text/plain": [
       "<Figure size 1440x504 with 1 Axes>"
      ]
     },
     "metadata": {
      "needs_background": "light"
     },
     "output_type": "display_data"
    }
   ],
   "source": [
    "fig, ax = plt.subplots(1, 1, figsize = (20, 7))\n",
    "\n",
    "# Concatenate the dataframe of predicted values with the dataframe of observed values:\n",
    "df_plot = pd.concat([google_train, forecasts]).set_index('ds')\n",
    "df_plot[['y', 'AutoARIMA']].plot(ax=ax, linewidth=2)\n",
    "\n",
    "# Specify graph features:\n",
    "ax.fill_between(df_plot.index, \n",
    "                df_plot['AutoARIMA-lo-80'], \n",
    "                df_plot['AutoARIMA-hi-80'],\n",
    "                alpha=.35,\n",
    "                color='blue',\n",
    "                label='auto_arima_level_80')\n",
    "ax.fill_between(df_plot.index, \n",
    "                df_plot['AutoARIMA-lo-95'], \n",
    "                df_plot['AutoARIMA-hi-95'],\n",
    "                alpha=.2,\n",
    "                color='blue',\n",
    "                label='auto_arima_level_95')\n",
    "ax.set_title('Google daily closing stock price', fontsize=20)\n",
    "ax.set_ylabel('$US', fontsize=15)\n",
    "ax.set_xlabel('Day', fontsize=15)\n",
    "ax.legend(prop={'size': 15})\n",
    "ax.grid()\n"
   ]
  },
  {
   "cell_type": "markdown",
   "metadata": {},
   "source": [
    "<p align=\"center\">\n",
    "Figure 14: 80% and 95% prediction intervals for the Google closing stock price based on a naïve method.\n",
    "</p>"
   ]
  },
  {
   "cell_type": "markdown",
   "metadata": {},
   "source": [
    "## Prediction intervals from bootstrapped residuals\n",
    "\n",
    "When a normal distribution for the residuals is an unreasonable assumption, one alternative is to use bootstrapping, which only assumes that the residuals are uncorrelated with constant variance.\n",
    "\n",
    "A one-step forecast error is defined as ${e}_{t} = {y}_{t} - \\hat{y}_{t|t-1}$ We can re-write this as\n",
    "\n",
    "${y}_{t} = \\hat{y}_{t|t-1} + {e}_{t}$\n",
    "\n",
    "So we can simulate the next observation of a time series using\n",
    "\n",
    "${y}_{T+1} = \\hat{y}_{T+1|T} + {e}_{T+1}$\n",
    "\n",
    "where $\\hat{y}_{T+1|T}$ is the one-step forecast and ${e}_{T+1}$ is a unknown future error. Assuming future errors will be similar to past errors, we can replace ${e}_{T+1}$ by sampling from the collection of errors we have seen in the past (i.e., the residuals). Adding the new simulated observation to our data set, we can repeat the process to obtain\n",
    "\n",
    "${y}_{T+2} = \\hat{y}_{T+2|T+1} + {e}_{T+2}$\n",
    "\n",
    "where ${e}_{T+2}$ is another draw from the collection of residuals. Continuing in this way, we can simulate an entire set of future values for our time series.\n",
    "\n",
    "Doing this repeatedly, we obtain many possible futures. To see some of them, we can use the generate() function."
   ]
  },
  {
   "cell_type": "code",
   "execution_count": null,
   "metadata": {},
   "outputs": [],
   "source": [
    "\"\"\"Prediction intervals from bootstrapped residuals Google example\"\"\""
   ]
  },
  {
   "cell_type": "markdown",
   "metadata": {},
   "source": [
    "Here we have generated five possible sample paths for the next 30 trading days. The .rep variable provides a new key for the tsibble. The plot below shows the five sample paths along with the historical data."
   ]
  },
  {
   "cell_type": "code",
   "execution_count": null,
   "metadata": {},
   "outputs": [],
   "source": [
    "\"\"\"Prediction intervals from bootstrapped residuals Google example\"\"\""
   ]
  },
  {
   "cell_type": "markdown",
   "metadata": {},
   "source": [
    "Then we can compute prediction intervals by calculating percentiles of the future sample paths for each forecast horizon. The result is called a bootstrapped prediction interval. The name “bootstrap” is a reference to pulling ourselves up by our bootstraps, because the process allows us to measure future uncertainty by only using the historical data.\n",
    "\n",
    "This is all built into the forecast() function so you do not need to call generate() directly."
   ]
  },
  {
   "cell_type": "code",
   "execution_count": null,
   "metadata": {},
   "outputs": [],
   "source": [
    "\"\"\"Prediction intervals from bootstrapped residuals Google example\"\"\""
   ]
  },
  {
   "cell_type": "markdown",
   "metadata": {},
   "source": [
    "Notice that the forecast distribution is now represented as a simulation with 5000 sample paths. Because there is no normality assumption, the prediction intervals are not symmetric. The .mean column is the mean of the bootstrap samples, so it may be slightly different from the results obtained without a bootstrap."
   ]
  },
  {
   "cell_type": "code",
   "execution_count": null,
   "metadata": {},
   "outputs": [],
   "source": [
    "\"\"\"Prediction intervals from bootstrapped residuals Google example\"\"\"\n"
   ]
  },
  {
   "cell_type": "markdown",
   "metadata": {},
   "source": [
    "The number of samples can be controlled using the times argument for forecast(). For example, intervals based on 1000 bootstrap samples can be sampled with:"
   ]
  },
  {
   "cell_type": "code",
   "execution_count": null,
   "metadata": {},
   "outputs": [],
   "source": [
    "\"\"\"Prediction intervals from bootstrapped residuals Google example\"\"\"\n"
   ]
  },
  {
   "cell_type": "markdown",
   "metadata": {},
   "source": [
    "In this case, they are similar (but not identical) to the prediction intervals based on the normal distribution.\n",
    "\n",
    "Use the slider below to see the effect of varying the number of bootstrap samples (times) on the forecast distribution:"
   ]
  },
  {
   "cell_type": "code",
   "execution_count": null,
   "metadata": {},
   "outputs": [],
   "source": [
    "\"\"\"Prediction intervals from bootstrapped residuals Google example\"\"\""
   ]
  }
 ],
 "metadata": {
  "kernelspec": {
   "display_name": "Python 3.10.5 64-bit",
   "language": "python",
   "name": "python3"
  },
  "language_info": {
   "codemirror_mode": {
    "name": "ipython",
    "version": 3
   },
   "file_extension": ".py",
   "mimetype": "text/x-python",
   "name": "python",
   "nbconvert_exporter": "python",
   "pygments_lexer": "ipython3",
   "version": "3.10.5"
  },
  "orig_nbformat": 4,
  "vscode": {
   "interpreter": {
    "hash": "b5d04f6d8a329d95987b154106802e5cf109483b394daa4f9d4f080f051e1734"
   }
  }
 },
 "nbformat": 4,
 "nbformat_minor": 2
}
